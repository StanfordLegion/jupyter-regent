{
 "cells": [
  {
   "cell_type": "markdown",
   "metadata": {},
   "source": [
    "# Writing SAXPY in Regent\n",
    "\n",
    "Writing a SAXPY program in Regent is easy! Check out this code:\n",
    "\n",
    "ajkldsajkldjsal\n",
    "asdlkjaskldjas\n",
    "lkjdlk"
   ]
  },
  {
   "cell_type": "code",
   "execution_count": 2,
   "metadata": {
    "collapsed": false
   },
   "outputs": [
    {
     "name": "stdout",
     "output_type": "stream",
     "text": [
      "0.500000\n",
      "0.500000\n",
      "0.500000\n",
      "0.500000\n",
      "0.500000\n",
      "0.500000\n",
      "0.500000\n",
      "0.500000\n",
      "0.500000\n",
      "0.500000\n",
      "0.500000\n",
      "0.500000\n",
      "0.500000\n",
      "0.500000\n",
      "0.500000\n",
      "0.500000\n",
      "0.500000\n",
      "0.500000\n",
      "0.500000\n",
      "0.500000\n",
      "0.500000\n",
      "0.500000\n",
      "0.500000\n",
      "0.500000\n",
      "0.500000\n",
      "0.500000\n",
      "0.500000\n",
      "0.500000\n",
      "0.500000\n",
      "0.500000\n",
      "\n"
     ]
    }
   ],
   "source": [
    "import \"regent\"\n",
    "\n",
    "-- This code has not been optimized and is not high performance.\n",
    "\n",
    "local int1d = index_type(int, \"int1d\")\n",
    "\n",
    "terra abs(a : double) : double\n",
    "  if a < 0 then\n",
    "    return -a\n",
    "  else\n",
    "    return a\n",
    "  end\n",
    "end\n",
    "\n",
    "task saxpy(is : ispace(int1d), x: region(is, float), y: region(is, float), a: float)\n",
    "where\n",
    "  reads(x, y), writes(y)\n",
    "do\n",
    "  __demand(__vectorize)\n",
    "  for i in is do\n",
    "    y[i] += a*x[i]\n",
    "  end\n",
    "end\n",
    "\n",
    "task test(n: int)\n",
    "  var is = ispace(int1d, n)\n",
    "  var x = region(is, float)\n",
    "  var y = region(is, float)\n",
    "\n",
    "  for i in is do\n",
    "    x[i] = 1.0\n",
    "    y[i] = 0.0\n",
    "  end\n",
    "\n",
    "  saxpy(is, x, y, 0.5)\n",
    "\n",
    "  for i in is do\n",
    "    regentlib.c.printf(\"%f\\n\", y[i])\n",
    "    regentlib.assert(abs(y[i] - 0.5) < 0.00001, \"test failed\")\n",
    "  end\n",
    "end\n",
    "\n",
    "task main()\n",
    "  test(10)\n",
    "  test(20)\n",
    "end\n",
    "regentlib.start(main)"
   ]
  },
  {
   "cell_type": "markdown",
   "metadata": {},
   "source": [
    "The code looks more complicated once you partition logical regions and launch a bunch of sub-tasks with a for-all style loop. The following code is such an example:"
   ]
  },
  {
   "cell_type": "code",
   "execution_count": 3,
   "metadata": {
    "collapsed": false
   },
   "outputs": [
    {
     "name": "stdout",
     "output_type": "stream",
     "text": [
      "0.500000\n",
      "0.500000\n",
      "0.500000\n",
      "0.500000\n",
      "0.500000\n",
      "0.500000\n",
      "0.500000\n",
      "0.500000\n",
      "0.500000\n",
      "0.500000\n",
      "0.500000\n",
      "0.500000\n",
      "0.500000\n",
      "0.500000\n",
      "0.500000\n",
      "0.500000\n",
      "0.500000\n",
      "0.500000\n",
      "0.500000\n",
      "0.500000\n",
      "0.500000\n",
      "0.500000\n",
      "0.500000\n",
      "0.500000\n",
      "0.500000\n",
      "0.500000\n",
      "0.500000\n",
      "0.500000\n",
      "0.500000\n",
      "0.500000\n",
      "\n"
     ]
    }
   ],
   "source": [
    "import \"regent\"\n",
    "\n",
    "-- This code has not been optimized and is not high performance.\n",
    "\n",
    "local int1d = index_type(int, \"int1d\")\n",
    "\n",
    "terra abs(a : double) : double\n",
    "  if a < 0 then\n",
    "    return -a\n",
    "  else\n",
    "    return a\n",
    "  end\n",
    "end\n",
    "\n",
    "task saxpy(is : ispace(int1d), x: region(is, float), y: region(is, float), a: float)\n",
    "where\n",
    "  reads(x, y), writes(y)\n",
    "do\n",
    "  __demand(__vectorize)\n",
    "  for i in is do\n",
    "    y[i] += a*x[i]\n",
    "  end\n",
    "end\n",
    "\n",
    "task test(n: int)\n",
    "  var is = ispace(int1d, n)\n",
    "  var x = region(is, float)\n",
    "  var y = region(is, float)\n",
    "\n",
    "  for i in is do\n",
    "    x[i] = 1.0\n",
    "    y[i] = 0.0\n",
    "  end\n",
    "\n",
    "  saxpy(is, x, y, 0.5)\n",
    "\n",
    "  for i in is do\n",
    "    regentlib.c.printf(\"%f\\n\", y[i])\n",
    "    regentlib.assert(abs(y[i] - 0.5) < 0.00001, \"test failed\")\n",
    "  end\n",
    "end\n",
    "\n",
    "task main()\n",
    "  test(10)\n",
    "  test(20)\n",
    "end\n",
    "regentlib.start(main)"
   ]
  },
  {
   "cell_type": "code",
   "execution_count": null,
   "metadata": {
    "collapsed": true
   },
   "outputs": [],
   "source": []
  }
 ],
 "metadata": {
  "kernelspec": {
   "display_name": "Regent",
   "language": "regent",
   "name": "regent"
  },
  "language_info": {
   "file_extension": "rg",
   "mimetype": "text/x-regent",
   "name": "regent",
   "pygments_lexer": "lua"
  }
 },
 "nbformat": 4,
 "nbformat_minor": 0
}
