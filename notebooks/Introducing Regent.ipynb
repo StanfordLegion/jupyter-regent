{
 "cells": [
  {
   "cell_type": "markdown",
   "metadata": {},
   "source": [
    "*This notebook is interactive, and contains both code and text. To run a piece of code, click on the box and hit **Ctrl-Enter**.*\n",
    "\n",
    "# Regent, a Language for Implicit Parallelism with Sequential Semantics\n",
    "\n",
    "[Regent](http://regent-lang.org/) is an implicit parallel programming language with sequential semantics. Regent programs look like traditional sequential programs, and you can understand what a program is doing by reading the code top-to-bottom, just like a traditional programming language. Behind the scenes, Regent parallelizes the code, while ensuring that any parallel execution produces results identical to the original sequential execution.\n",
    "\n",
    "For example, the two recursive calls to `fib` in the code below can automatically run in parallel:"
   ]
  },
  {
   "cell_type": "code",
   "execution_count": null,
   "metadata": {
    "collapsed": false
   },
   "outputs": [],
   "source": [
    "import \"regent\"\n",
    "\n",
    "task fib(i : int) : int\n",
    "  if i <= 0 then\n",
    "    return 1\n",
    "  end\n",
    "\n",
    "  return fib(i-1) + fib(i-2) -- These calls can run in parallel.\n",
    "end\n",
    "\n",
    "task main()\n",
    "  regentlib.c.printf(\"fib(5) is %d\\n\", fib(5))\n",
    "end\n",
    "regentlib.start(main)"
   ]
  },
  {
   "cell_type": "markdown",
   "metadata": {},
   "source": [
    "## Tasks\n",
    "\n",
    "*Tasks*, like `fib` above, are the fundamental unit of parallelism in Regent. Tasks are just functions: they take arguments, they have a body, and they return a result. Most task arguments, such as argument `i` to `fib`, are passed by-value, and therefore cannot be shared between tasks. Thus the task `fib` is trivially parallel, because it cannot interfere with other tasks.\n",
    "\n",
    "So far, this is just standard functional programming. However, Regent can also describe imperative programs (where tasks can modify their arguments). For example, the `inc` task below increments every element of its argument `r` by one."
   ]
  },
  {
   "cell_type": "code",
   "execution_count": null,
   "metadata": {
    "collapsed": false
   },
   "outputs": [],
   "source": [
    "import \"regent\"\n",
    "\n",
    "task inc(r : region(int)) -- Argument r is a container of ints.\n",
    "where reads writes(r) do  -- Declare how r will be used.\n",
    "  for x in r do\n",
    "    @x += 1               -- Dereference each element and increment by 1.\n",
    "  end\n",
    "end\n",
    "  \n",
    "task sum(r : region(int))\n",
    "where reads(r) do\n",
    "  var t = 0\n",
    "  for x in r do\n",
    "    t += @x\n",
    "  end\n",
    "  return t\n",
    "end"
   ]
  },
  {
   "cell_type": "markdown",
   "metadata": {},
   "source": [
    "## Privileges\n",
    "\n",
    "Ignore the arguments for the moment and focus on the declarations on lines 4 and 11 above. Regent tasks can mutate arguments, but only after requesting *privileges* on said argument. In the case above, `inc` is requesting read-write access to `r`, while `sum` only needs read access. Tasks can only call other tasks with a subset of their own privileges; so `inc` could call `sum`, but `sum` cannot call `inc`.\n",
    "\n",
    "(Go ahead and try: add a call to `inc(r)` in the body of `sum`. Regent will report an error at the line where you add the call.)\n",
    "\n",
    "Privileges are the first of a three-part strategy that Regent uses to discover parallelism. Part two has actually been hiding in plain sight, in the arguments on lines 3 and 10. Let's revisit them now.\n",
    "\n",
    "## Regions\n",
    "\n",
    "While privileges specify how data is used, regions answer the question of *what* data is being used. Conceptually, regions are containers, like arrays: they contain a number of elements, indexed by a set of keys called an *index space*. (In the example above, the keys were opaque pointers, but they can easily be integers or multi-dimensional points as well.)\n",
    "\n",
    "However, the analogy only goes so far. Every region is given a unique type; this means that you can't pull a fast one and fool the compiler into thinking you had privileges on something you didn't. For example, the code below will not compile, because `r` and `s` have distinct types."
   ]
  },
  {
   "cell_type": "code",
   "execution_count": null,
   "metadata": {
    "collapsed": false
   },
   "outputs": [],
   "source": [
    "import \"regent\"\n",
    "\n",
    "task swap(r : region(int), s : region(int))\n",
    "  r, s = s, r -- ERROR: r and s are different types\n",
    "end"
   ]
  },
  {
   "cell_type": "markdown",
   "metadata": {},
   "source": [
    "(Don't worry, there are other ways to swap the contents of regions, if that's what you want.)\n",
    "\n",
    "Regent uses a [variation on region-based type systems](http://legion.stanford.edu/pdfs/oopsla2013.pdf) to catch these sorts of errors. As a result, a large class of data-race and data-corruption errors are found at compile-time in Regent. (As a bonus, deadlocks are also impossible.)\n",
    "\n",
    "Having said that, regions are still first-class values. They can be created dynamically, and region arguments might get bound to different regions at different times during a program's execution. For example:"
   ]
  },
  {
   "cell_type": "code",
   "execution_count": null,
   "metadata": {
    "collapsed": false
   },
   "outputs": [],
   "source": [
    "import \"regent\"\n",
    "\n",
    "task f(r : region(int)) -- r will be bound to a different region on each call.\n",
    "end\n",
    "\n",
    "task main()\n",
    "  var s = region(ispace(ptr, 3), int)\n",
    "  f(s)\n",
    "  for i = 0, 3 do\n",
    "    var t = region(ispace(ptr, 5+i), int)\n",
    "    f(t)\n",
    "  end\n",
    "end\n",
    "regentlib.start(main)"
   ]
  },
  {
   "cell_type": "markdown",
   "metadata": {},
   "source": [
    "Regions are created with the `region` keyword, which takes an index space and a *field space* (set of fields). So far, all of the field spaces have been simple types like `int`, but structs are typically more common in practice.\n",
    "\n",
    "Index spaces can built from an opaque index type like `ptr`, as above, or from a structured index type (in 1, 2, 3, etc. dimensions). For example, the following code builds a 1D and a 2D region."
   ]
  },
  {
   "cell_type": "code",
   "execution_count": null,
   "metadata": {
    "collapsed": false
   },
   "outputs": [],
   "source": [
    "import \"regent\"\n",
    "\n",
    "struct rgba { r : int8, g : int8, b : int8, a : int8 }\n",
    "\n",
    "task main()\n",
    "  var line = ispace(int1d, 5, 0) -- 5 element starting at 0\n",
    "  var grid = ispace(int2d, {x = 4, y = 4}, {x = -1, y = -1}) -- 4x4 block starting at -1x-1\n",
    "\n",
    "  var vec = region(line, float)\n",
    "  var img = region(grid, rgba)\n",
    "end\n",
    "regentlib.start(main)"
   ]
  },
  {
   "cell_type": "markdown",
   "metadata": {},
   "source": [
    "One last note about unstructured index spaces. When using the `ptr` type to build an opaque index space, the elements must be allocated individually. This is useful in building incremental data structures like lists, trees, and graphs."
   ]
  },
  {
   "cell_type": "code",
   "execution_count": null,
   "metadata": {
    "collapsed": true
   },
   "outputs": [],
   "source": [
    "import \"regent\"\n",
    "\n",
    "task main()\n",
    "  var r = region(ispace(ptr, 5), int) -- Make a region with space for 5 elements.\n",
    "  var x = new(ptr(int, r))            -- Allocate one element.\n",
    "  var y = new(ptr(int, r), 3)         -- Allocate a block of 3 more.\n",
    "end"
   ]
  },
  {
   "cell_type": "markdown",
   "metadata": {},
   "source": [
    "## Partitions\n",
    "\n",
    "With regions and partitions, we are already able to exploit [task parallelism](https://en.wikipedia.org/wiki/Task_parallelism) in Regent. Two tasks that use a region read-only will be able to run in parallel, as will tasks that use different regions read-write.\n",
    "\n",
    "In order to take advantage of [data parallelism](https://en.wikipedia.org/wiki/Data_parallelism), we'll need to use *partitions*. Partitions subdivide a region into multiple pieces, so that multiple tasks can run on those pieces in parallel.\n",
    "\n",
    "Partitions are not copies of the data, but views. Changes to a subregion inside a partition will be automatically reflected in the parent. This means, for example, that multiple partitions can be used to slice the region's data different ways, and that data will get shuffled around automatically when accessing the different partitions.\n",
    "\n",
    "There are several ways to create partitions. One straightforward way to create a partition is to assign each element in a region to a color (i.e. in a field of each element), and then pass that coloring to the `partition` operator. Other ways to create partitions are covered in the [Regent language reference](http://regent-lang.org/reference/)."
   ]
  },
  {
   "cell_type": "code",
   "execution_count": null,
   "metadata": {
    "collapsed": false
   },
   "outputs": [],
   "source": [
    "import \"regent\"\n",
    "\n",
    "struct elt { value : int, c0 : int, c1 : int }\n",
    "\n",
    "-- This task increments each element in a region by the number of elements.\n",
    "task inc_by_size(r : region(elt))\n",
    "where reads writes(r) do\n",
    "  var size = 0\n",
    "  for x in r do\n",
    "    size += 1\n",
    "  end\n",
    "  for x in r do\n",
    "    x.value += size\n",
    "  end\n",
    "end\n",
    "\n",
    "task main()\n",
    "  -- Make a region and name the 4 elements.\n",
    "  var r = region(ispace(ptr, 4), elt)\n",
    "  var x0 = new(ptr(elt, r))\n",
    "  var x1 = new(ptr(elt, r))\n",
    "  var x2 = new(ptr(elt, r))\n",
    "  var x3 = new(ptr(elt, r))\n",
    "\n",
    "  fill(r.value, 0) -- Clear the region.\n",
    "\n",
    "  -- Make two different colorings of the region.\n",
    "  x0.c0, x1.c0, x2.c0, x3.c0 = 0, 0, 1, 2\n",
    "  x0.c1, x1.c1, x2.c1, x3.c1 = 0, 1, 1, 1\n",
    "\n",
    "  -- Make the two partitions.\n",
    "  var colors = ispace(int1d, 3) -- Each partition will have 3 subregions.\n",
    "  var part0 = partition(r.c0, colors)\n",
    "  var part1 = partition(r.c1, colors)\n",
    "\n",
    "  -- Call inc_by_size on each partition.\n",
    "  for color in colors do\n",
    "    inc_by_size(part0[color])\n",
    "  end\n",
    "  for color in colors do\n",
    "    inc_by_size(part1[color])\n",
    "  end\n",
    "\n",
    "  for x in r do\n",
    "    regentlib.c.printf(\"element %d has value %d\\n\", int(x), x.value)\n",
    "  end\n",
    "end\n",
    "regentlib.start(main)"
   ]
  },
  {
   "cell_type": "markdown",
   "metadata": {},
   "source": [
    "With this we're running in parallel! Each partition is individually disjoint (subregions do not overlap), so each for loop (lines 37-39 and 40-42) can run in parallel. Between (and around) the loops, Regent will handle any data shuffling necessary to ensure that all views onto the data remain consistent.\n",
    "\n",
    "## Where To From Here\n",
    "\n",
    "We hope you've enjoyed this introduction to Regent! Feel free to stay here and play around with the code as much as you like. Or, if you'd like to install Regent locally, head over to the [getting started page](http://regent-lang.org/start/) for details.\n",
    "\n",
    "You might also enjoy reading the [source](https://github.com/StanfordLegion/legion/tree/master/language), [language reference](http://regent-lang.org/reference/), or [paper](http://legion.stanford.edu/pdfs/regent2015.pdf). There is also an [older paper](http://legion.stanford.edu/pdfs/oopsla2013.pdf) which describes a fragment of the type system.\n",
    "\n",
    "## Credits\n",
    "\n",
    "Regent is an active research project at Stanford University. More details about the team are available at the [Legion homepage](http://legion.stanford.edu/)."
   ]
  }
 ],
 "metadata": {
  "kernelspec": {
   "display_name": "Regent",
   "language": "regent",
   "name": "regent"
  },
  "language_info": {
   "file_extension": "rg",
   "mimetype": "text/x-regent",
   "name": "regent",
   "pygments_lexer": "lua"
  }
 },
 "nbformat": 4,
 "nbformat_minor": 0
}
