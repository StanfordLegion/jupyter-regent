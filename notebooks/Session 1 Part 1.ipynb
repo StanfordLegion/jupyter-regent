{
 "nbformat_minor": 0, 
 "nbformat": 4, 
 "cells": [
  {
   "source": [
    "# Session 1 Part 1\n", 
    "\n", 
    "This notebook is interactive, and contains both code and text. To run a piece of code, click on the box, and then hit Ctrl-Enter. To edit a piece of text, just double click.\n", 
    "\n", 
    "In these exercises, we're going to walk through the creation of a simple Regent application: a circuit simulation on an unstructured graph. We'll describe the differential equations we're solving in the next part of the exercise. First, let's look at the data structures we're going to be using in our simulation.\n", 
    "\n", 
    "In Regent, data structures are stored in *regions*. Regions are like arrays in other languages: they contain elements indexed by keys, and each element stores a set of fields. We call the set of keys the *index space* and the set of fields the *field space*. A region is just the cross product of these two spaces.\n", 
    "\n", 
    "Regent has two kinds of index spaces: *structured* and *unstructured*. We'll be using mostly unstructured index spaces in these exercises. Unstructured index spaces are initially empty; the elements inside must be allocated explicitly (either individually or in bulk).\n", 
    "\n", 
    "This stage of the exercise has four goals:\n", 
    "\n", 
    " 1. Create field spaces for nodes and wires with the appropriate fields.\n", 
    " 2. Create unstructured index spaces for the nodes and wires.\n", 
    " 3. Create regions for nodes and wires from field and index spaces above.\n", 
    " 4. Allocate all the nodes and wires for the graph.\n", 
    "\n", 
    "## Syntax Guide\n", 
    "\n", 
    "Along with each section, we'll include a syntax guide to help teach you the syntax required in each part. The following snippets will help you get started with creating regions.\n"
   ], 
   "cell_type": "markdown", 
   "metadata": {}
  }, 
  {
   "execution_count": null, 
   "cell_type": "code", 
   "source": [
    "var V = E -- Creates a variable named V, with initial value E.\n", 
    "ispace(ptr, N) -- Creates an empty index space with room for N pointers.\n", 
    "fspace { F1: T1, ... } -- Creates a field space with fields F1 (of type T1), etc.\n", 
    "region(IS, FS) -- Creates a region with index space IS and field space FS.\n", 
    "new(ptr(T, R)) -- Allocates a pointer in R. Points to a value of type T.\n", 
    "new(ptr(T, R), N) -- As above, but allocates a block of N pointers."
   ], 
   "outputs": [], 
   "metadata": {
    "collapsed": false
   }
  }, 
  {
   "source": [
    "## Exercise"
   ], 
   "cell_type": "markdown", 
   "metadata": {}
  }, 
  {
   "execution_count": null, 
   "cell_type": "code", 
   "source": [
    "-- Every Regent program starts with the following line, which loads\n", 
    "-- the language definition.\n", 
    "import \"regent\"\n", 
    "\n", 
    "-- We're going to need access to a few C functions (e.g. printf).\n", 
    "local c = regentlib.c\n", 
    "\n", 
    "-- These two field spaces hold currents and voltages,\n", 
    "-- respectively. You'll need to reference them below.\n", 
    "fspace Currents {\n", 
    "  _0 : float,\n", 
    "  _1 : float,\n", 
    "  _2 : float,\n", 
    "}\n", 
    "\n", 
    "fspace Voltages {\n", 
    "  _1 : float,\n", 
    "  _2 : float,\n", 
    "}\n", 
    "\n", 
    "-- TODO: Add the following fields to the 'Node' field space:\n", 
    "--   * 'capacitance' of type float\n", 
    "--   * 'leakage' of type float\n", 
    "--   * 'charge' of type float\n", 
    "--   * 'voltage' of type float\n", 
    "fspace Node\n", 
    "{\n", 
    "}\n", 
    "\n", 
    "-- TODO: Add the following fields to the 'Wire' field space:\n", 
    "--   * 'in_node' of pointer type to region(Node)\n", 
    "--   * 'out_node' of pointer type to region(Node)\n", 
    "--   * 'capacitance' of type float\n", 
    "--   * 'inductance' of type float\n", 
    "--   * 'resistance' of type float\n", 
    "--   * 'current' of structure type 'Currents'\n", 
    "--   * 'voltage' of structure type 'Voltages'\n", 
    "fspace Wire(rn : region(Node))\n", 
    "{\n", 
    "}\n", 
    "\n", 
    "-- These are some helper modules for the exercise.\n", 
    "local CktConfig = require(\"session1/circuit_config\")\n", 
    "local helper = require(\"session1/circuit_helper\")\n", 
    "\n", 
    "task toplevel()\n", 
    "  -- Variable 'conf' contains the configuration of the circuit we're simulating.\n", 
    "  var conf : CktConfig\n", 
    "  conf:initialize_from_command()\n", 
    "  conf:show()\n", 
    "\n", 
    "  -- TODO: Create two logical regions for nodes and wires. The index\n", 
    "  -- spaces should be large enough to hold the nodes and wires.\n", 
    "  -- The sizes can be computed from the following fields of conf:\n", 
    "  --   * conf.num_pieces (the number of pieces in the graph)\n", 
    "  --   * conf.nodes_per_piece (the number of nodes per piece)\n", 
    "  --   * conf.wires_per_piece (the number of wires per piece)\n", 
    "  var rn\n", 
    "  var rw\n", 
    "\n", 
    "  -- TODO: Allocate enough number of elements in the two regions. Use\n", 
    "  -- the 'new' operator to allocate the elements. (Hint: Refer to the\n", 
    "  -- syntax guide for the syntax.)\n", 
    "\n", 
    "  c.printf(\"Generating a random circuit...\\n\")\n", 
    "  helper.generate_random_circuit(rn, rw, conf)\n", 
    "\n", 
    "  -- Once you've filled in the code above, this will print out the graph.\n", 
    "  helper.dump_graph(conf, rn, rw)\n", 
    "end\n", 
    "regentlib.start(toplevel)\n"
   ], 
   "outputs": [], 
   "metadata": {
    "collapsed": false
   }
  }, 
  {
   "source": [
    "Next up: [add tasks to complete the simulation](Session 1 Part 2.ipynb)."
   ], 
   "cell_type": "markdown", 
   "metadata": {}
  }
 ], 
 "metadata": {
  "kernelspec": {
   "display_name": "Regent", 
   "name": "regent", 
   "language": "regent"
  }, 
  "language_info": {
   "mimetype": "text/x-regent", 
   "pygments_lexer": "regent", 
   "file_extension": "rg", 
   "name": "regent"
  }
 }
}